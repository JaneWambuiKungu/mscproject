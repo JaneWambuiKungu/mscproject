{
 "cells": [
  {
   "cell_type": "code",
   "execution_count": 86,
   "id": "846825ed",
   "metadata": {},
   "outputs": [],
   "source": [
    "import pandas as pd\n",
    "import numpy as np\n",
    "from sklearn.model_selection import train_test_split\n",
    "from sklearn.preprocessing import StandardScaler\n",
    "from sklearn.tree import DecisionTreeClassifier\n",
    "from sklearn.linear_model import LogisticRegression\n",
    "import shap\n",
    "import matplotlib.pyplot as plt\n",
    "import seaborn as sns\n"
   ]
  },
  {
   "cell_type": "code",
   "execution_count": 87,
   "id": "8d948f61",
   "metadata": {},
   "outputs": [],
   "source": [
    "import pandas as pd\n",
    "import numpy as np\n",
    "from sklearn.model_selection import train_test_split\n",
    "from sklearn.preprocessing import StandardScaler\n",
    "\n",
    "# Load data\n",
    "data = pd.read_csv('/Users/janewambui/mscproject/student_data.csv')\n",
    "\n",
    "# Handle missing values:\n",
    "# Calculate mean only for numeric columns\n",
    "numeric_cols = data.select_dtypes(include=[np.number]).columns\n",
    "data[numeric_cols] = data[numeric_cols].fillna(data[numeric_cols].mean())\n",
    "\n",
    "# If you have categorical data, you can fill missing values with the mode or a placeholder\n",
    "categorical_cols = data.select_dtypes(include=['object']).columns\n",
    "data[categorical_cols] = data[categorical_cols].fillna(data[categorical_cols].mode().iloc[0])\n",
    "\n",
    "# Correct target column name used here\n",
    "X = data.drop('Loan_Approval', axis=1)  # Use the correct column name\n",
    "y = data['Loan_Approval']\n",
    "\n",
    "# Update numeric_cols to only include columns that are still in X\n",
    "numeric_cols = X.select_dtypes(include=[np.number]).columns\n",
    "\n",
    "# Scaling the features (only apply scaling to numeric columns)\n",
    "scaler = StandardScaler()\n",
    "X_scaled = pd.DataFrame(scaler.fit_transform(X[numeric_cols]), columns=numeric_cols)\n",
    "X_non_scaled = X.drop(columns=numeric_cols)\n",
    "X_final = pd.concat([X_scaled, X_non_scaled], axis=1)\n",
    "\n",
    "# Splitting the dataset into training and testing sets\n",
    "X_train, X_test, y_train, y_test = train_test_split(X_final, y, test_size=0.2, random_state=42)\n"
   ]
  },
  {
   "cell_type": "code",
   "execution_count": 88,
   "id": "39c85ba5",
   "metadata": {},
   "outputs": [
    {
     "name": "stdout",
     "output_type": "stream",
     "text": [
      "   Student_ID   GPA Course_of_Study Year_of_Study  Household_Income  \\\n",
      "0           1  2.75            Arts      Freshman             32183   \n",
      "1           2  3.90        Sciences      Freshman             49299   \n",
      "2           3  3.46            Arts        Junior             32874   \n",
      "3           4  3.20     Engineering     Sophomore             52711   \n",
      "4           5  2.31        Sciences     Sophomore             25539   \n",
      "\n",
      "   Part_Time_Job_Income  Financial_Support  Existing_Student_Debt  \\\n",
      "0                   653               1679                   4946   \n",
      "1                   971               3506                  11769   \n",
      "2                  1906               2744                   5486   \n",
      "3                   470               3356                   8335   \n",
      "4                  1166               4045                   4980   \n",
      "\n",
      "   Tuition_Cost  Loan_Approval  \n",
      "0          5504              0  \n",
      "1          6214              1  \n",
      "2          6531              1  \n",
      "3         16632              0  \n",
      "4         12576              0  \n",
      "       Student_ID         GPA  Household_Income  Part_Time_Job_Income  \\\n",
      "count  100.000000  100.000000        100.000000            100.000000   \n",
      "mean    50.500000    2.940200      58124.710000           1033.860000   \n",
      "std     29.011492    0.594857      23549.038306            531.778416   \n",
      "min      1.000000    2.010000      20301.000000              4.000000   \n",
      "25%     25.750000    2.385000      38459.250000            654.500000   \n",
      "50%     50.500000    2.925000      60277.000000           1002.500000   \n",
      "75%     75.250000    3.460000      75183.750000           1429.500000   \n",
      "max    100.000000    3.970000      99909.000000           1986.000000   \n",
      "\n",
      "       Financial_Support  Existing_Student_Debt  Tuition_Cost  Loan_Approval  \n",
      "count          100.00000             100.000000    100.000000      100.00000  \n",
      "mean          2552.82000            7394.410000  12160.020000        0.43000  \n",
      "std           1283.08441            3572.624792   4399.093835        0.49757  \n",
      "min            114.00000             953.000000   5009.000000        0.00000  \n",
      "25%           1570.25000            4821.500000   8458.500000        0.00000  \n",
      "50%           2759.00000            7253.500000  12108.000000        0.00000  \n",
      "75%           3516.00000           10159.500000  16130.750000        1.00000  \n",
      "max           4968.00000           14683.000000  19837.000000        1.00000  \n",
      "<class 'pandas.core.frame.DataFrame'>\n",
      "RangeIndex: 100 entries, 0 to 99\n",
      "Data columns (total 10 columns):\n",
      " #   Column                 Non-Null Count  Dtype  \n",
      "---  ------                 --------------  -----  \n",
      " 0   Student_ID             100 non-null    int64  \n",
      " 1   GPA                    100 non-null    float64\n",
      " 2   Course_of_Study        100 non-null    object \n",
      " 3   Year_of_Study          100 non-null    object \n",
      " 4   Household_Income       100 non-null    int64  \n",
      " 5   Part_Time_Job_Income   100 non-null    int64  \n",
      " 6   Financial_Support      100 non-null    int64  \n",
      " 7   Existing_Student_Debt  100 non-null    int64  \n",
      " 8   Tuition_Cost           100 non-null    int64  \n",
      " 9   Loan_Approval          100 non-null    int64  \n",
      "dtypes: float64(1), int64(7), object(2)\n",
      "memory usage: 7.9+ KB\n",
      "None\n"
     ]
    }
   ],
   "source": [
    "print(data.head())  # Print the first few rows of the dataset\n",
    "print(data.describe())  # Summary statistics for numeric columns\n",
    "print(data.info())  # Get a concise summary of the dataframe\n"
   ]
  },
  {
   "cell_type": "code",
   "execution_count": 89,
   "id": "82627c4a",
   "metadata": {},
   "outputs": [
    {
     "name": "stdout",
     "output_type": "stream",
     "text": [
      "Numeric columns: Index(['Student_ID', 'GPA', 'Household_Income', 'Part_Time_Job_Income',\n",
      "       'Financial_Support', 'Existing_Student_Debt', 'Tuition_Cost'],\n",
      "      dtype='object')\n",
      "Categorical columns: Index(['Course_of_Study', 'Year_of_Study'], dtype='object')\n"
     ]
    }
   ],
   "source": [
    "print(\"Numeric columns:\", numeric_cols)\n",
    "print(\"Categorical columns:\", categorical_cols)\n",
    "\n"
   ]
  },
  {
   "cell_type": "code",
   "execution_count": 90,
   "id": "0ed2824c",
   "metadata": {},
   "outputs": [
    {
     "name": "stdout",
     "output_type": "stream",
     "text": [
      "   Student_ID       GPA  Household_Income  Part_Time_Job_Income  \\\n",
      "0   -1.714816 -0.321352         -1.107153             -0.719809   \n",
      "1   -1.680173  1.621626         -0.376668             -0.118803   \n",
      "2   -1.645531  0.878226         -1.077663              1.648306   \n",
      "3   -1.610888  0.438944         -0.231049             -1.065671   \n",
      "4   -1.576245 -1.064752         -1.390709              0.249739   \n",
      "\n",
      "   Financial_Support  Existing_Student_Debt  Tuition_Cost  \n",
      "0          -0.684462              -0.688778     -1.520666  \n",
      "1           0.746624               1.230644     -1.358456  \n",
      "2           0.149751              -0.536867     -1.286033  \n",
      "3           0.629130               0.264603      1.021690  \n",
      "4           1.168822              -0.679213      0.095037  \n"
     ]
    }
   ],
   "source": [
    "print(X_scaled.head())  # Check the first few rows of the scaled data\n"
   ]
  },
  {
   "cell_type": "code",
   "execution_count": 91,
   "id": "d95e1c90",
   "metadata": {},
   "outputs": [
    {
     "name": "stdout",
     "output_type": "stream",
     "text": [
      "   Student_ID       GPA  Household_Income  Part_Time_Job_Income  \\\n",
      "0   -1.714816 -0.321352         -1.107153             -0.719809   \n",
      "1   -1.680173  1.621626         -0.376668             -0.118803   \n",
      "2   -1.645531  0.878226         -1.077663              1.648306   \n",
      "3   -1.610888  0.438944         -0.231049             -1.065671   \n",
      "4   -1.576245 -1.064752         -1.390709              0.249739   \n",
      "\n",
      "   Financial_Support  Existing_Student_Debt  Tuition_Cost Course_of_Study  \\\n",
      "0          -0.684462              -0.688778     -1.520666            Arts   \n",
      "1           0.746624               1.230644     -1.358456        Sciences   \n",
      "2           0.149751              -0.536867     -1.286033            Arts   \n",
      "3           0.629130               0.264603      1.021690     Engineering   \n",
      "4           1.168822              -0.679213      0.095037        Sciences   \n",
      "\n",
      "  Year_of_Study  \n",
      "0      Freshman  \n",
      "1      Freshman  \n",
      "2        Junior  \n",
      "3     Sophomore  \n",
      "4     Sophomore  \n",
      "         Student_ID           GPA  Household_Income  Part_Time_Job_Income  \\\n",
      "count  1.000000e+02  1.000000e+02      1.000000e+02          1.000000e+02   \n",
      "mean   4.440892e-18 -1.338929e-15      5.551115e-17          1.709743e-16   \n",
      "std    1.005038e+00  1.005038e+00      1.005038e+00          1.005038e+00   \n",
      "min   -1.714816e+00 -1.571616e+00     -1.614260e+00         -1.946390e+00   \n",
      "25%   -8.574080e-01 -9.380360e-01     -8.392925e-01         -7.169737e-01   \n",
      "50%    0.000000e+00 -2.568110e-02      9.185653e-02         -5.926902e-02   \n",
      "75%    8.574080e-01  8.782260e-01      7.280544e-01          7.477422e-01   \n",
      "max    1.714816e+00  1.739895e+00      1.783291e+00          1.799503e+00   \n",
      "\n",
      "       Financial_Support  Existing_Student_Debt  Tuition_Cost  \n",
      "count       1.000000e+02           1.000000e+02  1.000000e+02  \n",
      "mean       -1.429412e-16           6.217249e-17 -9.547918e-17  \n",
      "std         1.005038e+00           1.005038e+00  1.005038e+00  \n",
      "min        -1.910324e+00          -1.812074e+00 -1.633756e+00  \n",
      "25%        -7.696454e-01          -7.238017e-01 -8.456668e-01  \n",
      "50%         1.615004e-01          -3.964029e-02 -1.188474e-02  \n",
      "75%         7.544572e-01           7.778651e-01  9.071718e-01  \n",
      "max         1.891806e+00           2.050400e+00  1.753919e+00  \n"
     ]
    }
   ],
   "source": [
    "print(X_final.head())  # Inspect the first few rows of the final dataset\n",
    "print(X_final.describe())  # Summary statistics of the final dataset\n"
   ]
  },
  {
   "cell_type": "code",
   "execution_count": 92,
   "id": "b98f2ac2",
   "metadata": {},
   "outputs": [
    {
     "name": "stdout",
     "output_type": "stream",
     "text": [
      "Training data shape: (80, 9)\n",
      "Test data shape: (20, 9)\n"
     ]
    }
   ],
   "source": [
    "print(\"Training data shape:\", X_train.shape)\n",
    "print(\"Test data shape:\", X_test.shape)\n"
   ]
  }
 ],
 "metadata": {
  "kernelspec": {
   "display_name": "Python 3 (ipykernel)",
   "language": "python",
   "name": "python3"
  },
  "language_info": {
   "codemirror_mode": {
    "name": "ipython",
    "version": 3
   },
   "file_extension": ".py",
   "mimetype": "text/x-python",
   "name": "python",
   "nbconvert_exporter": "python",
   "pygments_lexer": "ipython3",
   "version": "3.11.5"
  }
 },
 "nbformat": 4,
 "nbformat_minor": 5
}
